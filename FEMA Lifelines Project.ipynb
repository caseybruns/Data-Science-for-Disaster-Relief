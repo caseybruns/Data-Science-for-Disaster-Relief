{
 "cells": [
  {
   "cell_type": "markdown",
   "metadata": {},
   "source": [
    "# FEMA Lifelines Project"
   ]
  },
  {
   "cell_type": "markdown",
   "metadata": {},
   "source": [
    "## Problem Statement\n",
    "Prior to and during a disaster, it is important to understand the projected and actual effects of the event on the community, including its economic effects on critical services. FEMA has identified seven “lifelines” that require attention during a disaster: (1) Safety & Security; (2) Food, Water, Sheltering; (3) Health and medical; (4) Energy; (5) Communications; (6) Transportation; (7) Hazardous waste. \n",
    "\n",
    "### Our Goals\n",
    "\n",
    "1. Estimate and categorize businesses and infrastructure in a city by FEMA Lifelines\n",
    "\n",
    "2. Understand the distribution of FEMA Lifelines by zipcode using Houston, Texas"
   ]
  },
  {
   "cell_type": "markdown",
   "metadata": {},
   "source": [
    "## Contents:\n",
    "- [Lifeline 1 - Safety](#Lifeline-1---Safety)\n",
    "- [Lifeline 2 - Food, Water & Shelter](#Lifeline-2---Food,-Water-&-Shelter)\n",
    "- [Lifeline 3 - Health and Medical](#Lifeline-3---Health-and-Medical)\n",
    "- [Lifeline 4 - Energy](#Lifeline-4---Energy)\n",
    "- [Lifeline 5 - Communication](#Lifeline-5---Communication)\n",
    "- [Lifeline 6 -Transportation](#Lifeline-6---Transportation)\n",
    "- [Lifeline 7 - Hazardous Material](#Lifeline-7---Hazardous-Material)\n",
    "- [Combine Lifelines](#Combine-Lifelines)\n",
    "- [Zipcode EDA](#Zipcode-EDA)\n",
    "- [Find Your City](#Find-Your-City)"
   ]
  },
  {
   "cell_type": "markdown",
   "metadata": {},
   "source": [
    "### Downloads"
   ]
  },
  {
   "cell_type": "code",
   "execution_count": 1,
   "metadata": {},
   "outputs": [],
   "source": [
    "# ! pip install uszipcode\n",
    "# ! pip install python-google-places\n",
    "# ! pip install yelp"
   ]
  },
  {
   "cell_type": "markdown",
   "metadata": {},
   "source": [
    "### Imports"
   ]
  },
  {
   "cell_type": "code",
   "execution_count": 2,
   "metadata": {},
   "outputs": [],
   "source": [
    "import pandas as pd\n",
    "import seaborn as sns\n",
    "import matplotlib.pyplot as plt\n",
    "from scipy import stats\n",
    "import numpy as np\n",
    "from googleplaces import GooglePlaces\n",
    "from yelp.client import Client\n",
    "from lifelinescrape import scrape_google, scrape_yelp, remove\n",
    "from uszipcode import SearchEngine"
   ]
  },
  {
   "cell_type": "markdown",
   "metadata": {},
   "source": [
    "### Set API keys"
   ]
  },
  {
   "cell_type": "code",
   "execution_count": 3,
   "metadata": {},
   "outputs": [],
   "source": [
    "YELP_API_KEY = open('API_LOCATION.txt').read()[:-1]\n",
    "client = Client(YELP_API_KEY)\n",
    "\n",
    "GOOGLE_API_KEY = open('API_LOCATION.txt').read()[:-1]\n",
    "google_places = GooglePlaces(GOOGLE_API_KEY)"
   ]
  },
  {
   "cell_type": "markdown",
   "metadata": {},
   "source": [
    "## Lifeline 1 - Safety\n",
    "\n",
    "#### Components\n",
    "- *Law Enforcement Security*: Evacuation routes, Force protection and security for staff, Security assessments at external facilities, Damaged law enforcement or correctional facilities, Curfew.\n",
    "\n",
    "\n",
    "- *Search and Rescure*: Number and location of missing survivors, Life threatening hazards to responders and survivors, Availability and resources of search and rescue teams, Status of animal assists, structural assessments, and shelter in place checks.\n",
    "\n",
    "\n",
    "- *Fire Services*: Location of fire, Percent of fire contained, Fire’s rate and direction of spread, Weather conditions, Availability and resources of fire services\n",
    "\n",
    "\n",
    "- *Government Services*: Status of government offices and schools, Status of continuity of government and continuity of operations\n",
    "\n",
    "\n",
    "- *Responder Safety*: Safety hazards affecting operations, Requirements for Personal Protective Equipment (PPE), Security issues or concerns, Billeting for responders, Onsite training and policy\n",
    "\n",
    "\n",
    "- *Imminent Hazard Mitigation**: Status of flood risk grants, Status of area dams, levees, reservoirs"
   ]
  },
  {
   "cell_type": "markdown",
   "metadata": {},
   "source": [
    "#### 1. Define Search Terms\n",
    "This is only a google scrape to dataframe - there is no yelp safety data. "
   ]
  },
  {
   "cell_type": "code",
   "execution_count": 4,
   "metadata": {},
   "outputs": [],
   "source": [
    "# Component List\n",
    "law_enforcement_security = ['houston police department', 'houston police organization']\n",
    "\n",
    "search_rescue = ['houston emergency management', 'Ambulance service', 'animal search and rescue']\n",
    "\n",
    "fire_services = ['fire department']\n",
    "\n",
    "government_services = ['government services']\n",
    "\n",
    "# Lifeline List of Tuples\n",
    "safety_tuple_list = [(law_enforcement_security, 'Law Enforce/Security'),\n",
    "                     (search_rescue, 'Search and Rescue'),\n",
    "                     (fire_services, 'Fire Services'),\n",
    "                     (government_services, 'Government Services')]"
   ]
  },
  {
   "cell_type": "markdown",
   "metadata": {},
   "source": [
    "#### 2. Run Functions to Scrape"
   ]
  },
  {
   "cell_type": "code",
   "execution_count": 5,
   "metadata": {},
   "outputs": [
    {
     "name": "stdout",
     "output_type": "stream",
     "text": [
      "pulled locations for houston police department\n",
      "pulled locations for houston police organization\n",
      "pulled locations for houston emergency management\n",
      "pulled locations for Ambulance service\n",
      "pulled locations for animal search and rescue\n",
      "pulled locations for fire department\n",
      "pulled locations for government services\n"
     ]
    }
   ],
   "source": [
    "safety_google_df = scrape_google(safety_tuple_list, 1, google_places)"
   ]
  },
  {
   "cell_type": "markdown",
   "metadata": {},
   "source": [
    "#### 3. Save to csv"
   ]
  },
  {
   "cell_type": "code",
   "execution_count": 6,
   "metadata": {},
   "outputs": [],
   "source": [
    "safety_google_df.to_csv('datasets/safety.csv', index=False)"
   ]
  },
  {
   "cell_type": "markdown",
   "metadata": {},
   "source": [
    "## Lifeline 2 - Food, Water & Shelter\n",
    "\n",
    "#### Components\n",
    "- *Shelter*: Requirements for emergency shelter, Number and location of open shelters, Current population in shelters, Transitional Sheltering, Assistance options, Potential future sheltering requirements\n",
    "\n",
    "\n",
    "- *Food and Potable Water*: Operating status of Points of Distribution (PODs), Operating status of supermarkets, neighborhood markets, and grocery stores, Operating status of restaurants, Impacts to the food supply chain, Operating status of public and private water supply systems, Operating status of water control systems (e.g., dams, levees, storm drains), Food/water health advisories\n",
    "\n",
    "\n",
    "- *Water Infrastructure*: Operating status of public wastewater systems and private septic systems, Operating status of wastewater processing facilities, Operating status of public and private water infrastructure (e.g., water mains)\n",
    "\n",
    "\n",
    "- *Evacuation*: Mandatory or voluntary evacuation orders, Number of people to evacuate, Evacuation routes, Evacuation time frame, Risk to responders and evacuees, Food, water, shelter availability\n",
    "\n",
    "\n",
    "- *Durable Goods*: Need for PODs, Pre-designated POD locations, Operating status of PODs, Resource distribution at PODs\n",
    "\n",
    "\n",
    "- *Agriculture*: Status of area agriculture, Status of food stock, Food safety"
   ]
  },
  {
   "cell_type": "markdown",
   "metadata": {},
   "source": [
    "#### 1. Define Search Terms"
   ]
  },
  {
   "cell_type": "code",
   "execution_count": 7,
   "metadata": {},
   "outputs": [],
   "source": [
    "# Component List\n",
    "shelter = ['animal shelters', 'community centers', 'homeless shelters', 'stadium', 'arena']\n",
    "food_potable_water = ['food banks', 'grocery store', 'supermarket', \n",
    "                      'water utility company', 'water treatment plant', \n",
    "                      'dams', 'Public works department', 'reservoirs']\n",
    "water = ['water treatment plant', 'Sewage treatment plant', 'water mains']\n",
    "evacuation = []\n",
    "durable_goods = []\n",
    "agriculture = ['farm']\n",
    "\n",
    "# Lifeline List of Tuples\n",
    "fws_google_list = [(shelter,'Shelter'), (food_potable_water, 'Food & Potable Water'),\n",
    "                   (water, 'Water Infrastructure'), (agriculture,'Agriculture')]"
   ]
  },
  {
   "cell_type": "markdown",
   "metadata": {},
   "source": [
    "#### 2. Run Functions to Scrape"
   ]
  },
  {
   "cell_type": "code",
   "execution_count": 8,
   "metadata": {},
   "outputs": [
    {
     "name": "stdout",
     "output_type": "stream",
     "text": [
      "pulled locations for animal shelters\n",
      "pulled locations for community centers\n",
      "pulled locations for homeless shelters\n",
      "pulled locations for stadium\n",
      "pulled locations for arena\n",
      "pulled locations for food banks\n",
      "pulled locations for grocery store\n",
      "pulled locations for supermarket\n",
      "pulled locations for water utility company\n",
      "pulled locations for water treatment plant\n",
      "pulled locations for dams\n",
      "pulled locations for Public works department\n",
      "pulled locations for reservoirs\n",
      "pulled locations for water treatment plant\n",
      "pulled locations for Sewage treatment plant\n",
      "pulled locations for water mains\n",
      "pulled locations for farm\n"
     ]
    }
   ],
   "source": [
    "fws_df = scrape_google(fws_google_list, 2, google_places)"
   ]
  },
  {
   "cell_type": "markdown",
   "metadata": {},
   "source": [
    "#### 3. Save to csv"
   ]
  },
  {
   "cell_type": "code",
   "execution_count": 9,
   "metadata": {},
   "outputs": [],
   "source": [
    "fws_df.to_csv('datasets/fws.csv', index=False)"
   ]
  },
  {
   "cell_type": "markdown",
   "metadata": {},
   "source": [
    "## Lifeline 3 - Health and Medical\n",
    "\n",
    "#### Components\n",
    "- *Public Health*: Status of state and local health departments, Public health advisories\n",
    "\n",
    "\n",
    "- *Fatality Managment*: Availability of mortuary and post-mortuary services, Availability of transportation, storage and disposal resources, Status of body recovery and processing, Descendant’s family assistance\n",
    "\n",
    "\n",
    "- *Patient Movement*: Status of state and local EMS systems, Active patient evacuations, Future patient evacuations\n",
    "\n",
    "\n",
    "- *Medical Care*: Status of acute medical care facilities (e.g., level 1 trauma center), Status of chronic medical care facilities (e.g., long term care centers) Status of primary care and behavioral health facilities, Status of home health agencies, Status of VA Health System resources in the affected area\n",
    "\n",
    "\n",
    "- *Health Supply Chain*: Status of pharmaceutical supply chain"
   ]
  },
  {
   "cell_type": "markdown",
   "metadata": {},
   "source": [
    "#### 1. Define Search Terms"
   ]
  },
  {
   "cell_type": "code",
   "execution_count": 10,
   "metadata": {},
   "outputs": [],
   "source": [
    "# Component List\n",
    "public_health = ['Public health department']\n",
    "fatality = ['post-mortuary services', 'mortuary']\n",
    "patient_move = ['Ambulance service']\n",
    "medical_care = ['Emergency room', 'nursing home', 'retirement home', \n",
    "                'Assisted living facility', 'Mental health clinic', 'hospital',\n",
    "               'Home health care service']\n",
    "health_supply_chain = ['pharmacy', 'Pharmaceutical company']\n",
    "\n",
    "\n",
    "# Lifeline List of Tuples\n",
    "health_google = [(public_health,'Public Health'), (fatality, 'Fatality Management'),\n",
    "                (patient_move, 'Patient Movement'), (medical_care, 'Medical Care'),\n",
    "                (health_supply_chain, 'Health Supply Chain')]"
   ]
  },
  {
   "cell_type": "markdown",
   "metadata": {},
   "source": [
    "#### 2. Run Functions to Scrape"
   ]
  },
  {
   "cell_type": "code",
   "execution_count": 11,
   "metadata": {},
   "outputs": [
    {
     "name": "stdout",
     "output_type": "stream",
     "text": [
      "pulled locations for Public health department\n",
      "pulled locations for post-mortuary services\n",
      "pulled locations for mortuary\n",
      "pulled locations for Ambulance service\n",
      "pulled locations for Emergency room\n",
      "pulled locations for nursing home\n",
      "pulled locations for retirement home\n",
      "pulled locations for Assisted living facility\n",
      "pulled locations for Mental health clinic\n",
      "pulled locations for hospital\n",
      "pulled locations for Home health care service\n",
      "pulled locations for pharmacy\n",
      "pulled locations for Pharmaceutical company\n"
     ]
    }
   ],
   "source": [
    "health_df = scrape_google(health_google, 3, google_places)"
   ]
  },
  {
   "cell_type": "markdown",
   "metadata": {},
   "source": [
    "#### 3. Save to csv"
   ]
  },
  {
   "cell_type": "code",
   "execution_count": 12,
   "metadata": {},
   "outputs": [],
   "source": [
    "health_df.to_csv('datasets/health.csv', index=False)"
   ]
  },
  {
   "cell_type": "markdown",
   "metadata": {},
   "source": [
    "## Lifeline 4 - Energy\n",
    "\n",
    "#### Components\n",
    " - *Fuel*: Status of commercial fuel stations, Responder fuel availability, Status of critical fuel facilities, Status of fuel supply line\n",
    "\n",
    "\n",
    "- *Temporary Power*: Status of critical facilities, Availability of temporary power resources\n",
    "\n",
    "\n",
    "- *Power Grid*: Status of electrical power generation and distribution facilities, Number of people and locations without power, Estimated time to restoration of power, Number of electrically dependent persons (e.g., medical equipment)affected, Status of nuclear power plants, Status of nuclear power plants within 10 miles, Status of natural gas and fuel pipelines in the affected area"
   ]
  },
  {
   "cell_type": "markdown",
   "metadata": {},
   "source": [
    "#### 1. Define Search Terms"
   ]
  },
  {
   "cell_type": "code",
   "execution_count": 13,
   "metadata": {},
   "outputs": [],
   "source": [
    "# Component List\n",
    "fuel = ['servicestations','naturalgassuppliers']\n",
    "temp_power = ['utilities', 'electricitysuppliers']\n",
    "fuel_g = ['Fuel supplier', 'colonial pipeline', 'gas company'] #google versions of fuel component\n",
    "temp_power_g = ['Electrical equipment supplier'] #google versions of temp_power component\n",
    "power = ['Electrical substation', 'power plant', 'nuclear power plant']\n",
    "\n",
    "# Lifeline List of Tuples\n",
    "energy_yelp = [(fuel, 'Fuel'), (temp_power, 'Temporary Power')]\n",
    "energy_google = [(fuel_g, 'Fuel'), (temp_power_g, 'Temporary Power'), (power, 'Power')]"
   ]
  },
  {
   "cell_type": "markdown",
   "metadata": {},
   "source": [
    "#### 2. Run Functions to Scrape"
   ]
  },
  {
   "cell_type": "code",
   "execution_count": 14,
   "metadata": {},
   "outputs": [
    {
     "name": "stdout",
     "output_type": "stream",
     "text": [
      "got 50\n",
      "got 50\n",
      "got 50\n",
      "got 24\n",
      "got 0\n",
      "reached the end\n",
      "total collected: 174\n"
     ]
    },
    {
     "data": {
      "text/html": [
       "<div>\n",
       "<style scoped>\n",
       "    .dataframe tbody tr th:only-of-type {\n",
       "        vertical-align: middle;\n",
       "    }\n",
       "\n",
       "    .dataframe tbody tr th {\n",
       "        vertical-align: top;\n",
       "    }\n",
       "\n",
       "    .dataframe thead th {\n",
       "        text-align: right;\n",
       "    }\n",
       "</style>\n",
       "<table border=\"1\" class=\"dataframe\">\n",
       "  <thead>\n",
       "    <tr style=\"text-align: right;\">\n",
       "      <th></th>\n",
       "      <th>Business</th>\n",
       "      <th>Category</th>\n",
       "      <th>Source</th>\n",
       "      <th>Latitude</th>\n",
       "      <th>Longitude</th>\n",
       "      <th>Lifeline</th>\n",
       "      <th>Component</th>\n",
       "    </tr>\n",
       "  </thead>\n",
       "  <tbody>\n",
       "    <tr>\n",
       "      <th>0</th>\n",
       "      <td>Costco</td>\n",
       "      <td>wholesale_stores</td>\n",
       "      <td>Yelp</td>\n",
       "      <td>29.734222</td>\n",
       "      <td>-95.439582</td>\n",
       "      <td>4</td>\n",
       "      <td>None</td>\n",
       "    </tr>\n",
       "    <tr>\n",
       "      <th>1</th>\n",
       "      <td>Medical Center Shell</td>\n",
       "      <td>servicestations</td>\n",
       "      <td>Yelp</td>\n",
       "      <td>29.706535</td>\n",
       "      <td>-95.412963</td>\n",
       "      <td>4</td>\n",
       "      <td>Fuel</td>\n",
       "    </tr>\n",
       "    <tr>\n",
       "      <th>2</th>\n",
       "      <td>Mobil</td>\n",
       "      <td>servicestations</td>\n",
       "      <td>Yelp</td>\n",
       "      <td>29.762319</td>\n",
       "      <td>-95.467041</td>\n",
       "      <td>4</td>\n",
       "      <td>Fuel</td>\n",
       "    </tr>\n",
       "    <tr>\n",
       "      <th>3</th>\n",
       "      <td>Kroger</td>\n",
       "      <td>servicestations</td>\n",
       "      <td>Yelp</td>\n",
       "      <td>29.773535</td>\n",
       "      <td>-95.390373</td>\n",
       "      <td>4</td>\n",
       "      <td>Fuel</td>\n",
       "    </tr>\n",
       "    <tr>\n",
       "      <th>4</th>\n",
       "      <td>Roberts Mobil Car Care Center</td>\n",
       "      <td>servicestations</td>\n",
       "      <td>Yelp</td>\n",
       "      <td>29.742008</td>\n",
       "      <td>-95.441978</td>\n",
       "      <td>4</td>\n",
       "      <td>Fuel</td>\n",
       "    </tr>\n",
       "  </tbody>\n",
       "</table>\n",
       "</div>"
      ],
      "text/plain": [
       "                        Business          Category Source   Latitude  \\\n",
       "0                         Costco  wholesale_stores   Yelp  29.734222   \n",
       "1           Medical Center Shell   servicestations   Yelp  29.706535   \n",
       "2                          Mobil   servicestations   Yelp  29.762319   \n",
       "3                         Kroger   servicestations   Yelp  29.773535   \n",
       "4  Roberts Mobil Car Care Center   servicestations   Yelp  29.742008   \n",
       "\n",
       "   Longitude  Lifeline Component  \n",
       "0 -95.439582         4      None  \n",
       "1 -95.412963         4      Fuel  \n",
       "2 -95.467041         4      Fuel  \n",
       "3 -95.390373         4      Fuel  \n",
       "4 -95.441978         4      Fuel  "
      ]
     },
     "execution_count": 14,
     "metadata": {},
     "output_type": "execute_result"
    }
   ],
   "source": [
    "yelp_df = scrape_yelp(energy_yelp, 4, YELP_API_KEY)\n",
    "yelp_df.head()"
   ]
  },
  {
   "cell_type": "code",
   "execution_count": 15,
   "metadata": {},
   "outputs": [
    {
     "name": "stdout",
     "output_type": "stream",
     "text": [
      "pulled locations for Fuel supplier\n",
      "pulled locations for colonial pipeline\n",
      "pulled locations for gas company\n",
      "pulled locations for Electrical equipment supplier\n",
      "pulled locations for Electrical substation\n",
      "pulled locations for power plant\n",
      "pulled locations for nuclear power plant\n"
     ]
    },
    {
     "data": {
      "text/plain": [
       "(109, 7)"
      ]
     },
     "execution_count": 15,
     "metadata": {},
     "output_type": "execute_result"
    }
   ],
   "source": [
    "google_df = scrape_google(energy_google, 4, google_places)\n",
    "google_df.shape"
   ]
  },
  {
   "cell_type": "markdown",
   "metadata": {},
   "source": [
    "#### 3. Combine Yelp and Google DataFrames"
   ]
  },
  {
   "cell_type": "code",
   "execution_count": 16,
   "metadata": {},
   "outputs": [],
   "source": [
    "energy_df = pd.concat([yelp_df, google_df], ignore_index=True)"
   ]
  },
  {
   "cell_type": "markdown",
   "metadata": {},
   "source": [
    "#### 4. Clean Data"
   ]
  },
  {
   "cell_type": "code",
   "execution_count": 17,
   "metadata": {},
   "outputs": [],
   "source": [
    "# Dropping all categories that don't actually meet lifelines\n",
    "# Using remove function to do it\n",
    "\n",
    "energy_df = remove(['grocery','wholesale_stores','autorepair', 'burgers',\n",
    "                  'hotdogs', 'convenience', 'shopping', 'localservices', \n",
    "                 'businessconsulting', 'electricians'], energy_df)"
   ]
  },
  {
   "cell_type": "markdown",
   "metadata": {},
   "source": [
    "#### 5. Save to csv"
   ]
  },
  {
   "cell_type": "code",
   "execution_count": 18,
   "metadata": {},
   "outputs": [],
   "source": [
    "energy_df.to_csv('datasets/energy.csv', index=False)"
   ]
  },
  {
   "cell_type": "markdown",
   "metadata": {},
   "source": [
    "## Lifeline 5 - Communication\n",
    "\n",
    "#### Components\n",
    "- *Communication Infrastructure*: Status of telecommunications service, Reliability of internet service, Reliability of cellular service, Requirements for radio/satellite communication capability\n",
    "\n",
    "\n",
    "- *Alerts Warnings Messages*: Status of the emergency alert system (e.g., TV, radio, cable, cell), Status of public safety radio communications, Options for dissemination of information to the whole community, External affairs and media communication\n",
    "\n",
    "\n",
    "- *Dispatch 911*: Status of phone infrastructure and emergency line, Number of callers and availability of staff and facilities, Status of responder communications Availability of communications equipment\n",
    "\n",
    "\n",
    "- *Responder Commmunications*: Status of EOC(s), dispatcher, and field responder communications, Availability and status of first responder communications equipment\n",
    "\n",
    "\n",
    "- *Financial Services*: Access to cash, Access to electronic payment, National economic impacts"
   ]
  },
  {
   "cell_type": "markdown",
   "metadata": {},
   "source": [
    "#### 1. Define Search Terms"
   ]
  },
  {
   "cell_type": "code",
   "execution_count": 19,
   "metadata": {},
   "outputs": [],
   "source": [
    "# Component Lists\n",
    "infrastructure = ['houston cell towers']\n",
    "\n",
    "alerts_warnings_messages = ['radiostations', 'televisionstations']\n",
    "\n",
    "financial_services = ['banks']\n",
    "\n",
    "# Lifeline List of Tuples\n",
    "comm_yelp = [(alerts_warnings_messages, 'Alerts & Warnings'),(financial_services, 'Financial Services')]\n",
    "comm_tuples = [(infrastructure, 'Infrastructure')]"
   ]
  },
  {
   "cell_type": "markdown",
   "metadata": {},
   "source": [
    "#### 2. Run Functions to Scrape"
   ]
  },
  {
   "cell_type": "code",
   "execution_count": 20,
   "metadata": {},
   "outputs": [
    {
     "name": "stdout",
     "output_type": "stream",
     "text": [
      "got 50\n",
      "got 50\n",
      "got 50\n",
      "got 50\n",
      "got 30\n",
      "got 0\n",
      "reached the end\n",
      "total collected: 230\n"
     ]
    }
   ],
   "source": [
    "# Yelp\n",
    "communication_yelp_df = scrape_yelp(comm_yelp, 5, YELP_API_KEY)"
   ]
  },
  {
   "cell_type": "code",
   "execution_count": 21,
   "metadata": {},
   "outputs": [
    {
     "name": "stdout",
     "output_type": "stream",
     "text": [
      "pulled locations for houston cell towers\n"
     ]
    }
   ],
   "source": [
    "# Google\n",
    "communication_google_df = scrape_google(comm_tuples, 5, google_places)"
   ]
  },
  {
   "cell_type": "markdown",
   "metadata": {},
   "source": [
    "#### 3. Combine Yelp and Google DataFrames"
   ]
  },
  {
   "cell_type": "code",
   "execution_count": 22,
   "metadata": {},
   "outputs": [],
   "source": [
    "comm_df = pd.concat([communication_google_df, communication_yelp_df])"
   ]
  },
  {
   "cell_type": "markdown",
   "metadata": {},
   "source": [
    "#### 4. Clean Data"
   ]
  },
  {
   "cell_type": "code",
   "execution_count": 23,
   "metadata": {},
   "outputs": [],
   "source": [
    "# Dropping all categories that don't actually meet lifelines\n",
    "# Using remove function to do it\n",
    "\n",
    "comm_df = remove(['djs', 'paydayloans', 'investing', 'mortgagebrokers'], comm_df)"
   ]
  },
  {
   "cell_type": "markdown",
   "metadata": {},
   "source": [
    "#### 5. Save to csv"
   ]
  },
  {
   "cell_type": "code",
   "execution_count": 24,
   "metadata": {},
   "outputs": [],
   "source": [
    "comm_df.to_csv('datasets/communication.csv', index=False)"
   ]
  },
  {
   "cell_type": "markdown",
   "metadata": {},
   "source": [
    "## Lifeline 6 -Transportation\n",
    "\n",
    "#### Components\n",
    "- *Highway*: Status of major roads andhighways, Status of critical and noncritical bridges, Status of maintenance and emergency repairs\n",
    "\n",
    "\n",
    "- *Mass Transit*: Status of public transit systems including underground rail, buses, and ferry services\n",
    "\n",
    "\n",
    "- *Railway*: Status of area railways and stations\n",
    "\n",
    "\n",
    "- *Aviation*: Status of area airports, Status of incoming and outgoing flights\n",
    "\n",
    "\n",
    "- *Maritime*: Status of area waterways, Status of area ports\n",
    "\n",
    "\n",
    "- *Pipline*: Status of natural gas and fuel pipelines"
   ]
  },
  {
   "cell_type": "markdown",
   "metadata": {},
   "source": [
    "#### 1. Define Search Terms"
   ]
  },
  {
   "cell_type": "code",
   "execution_count": 25,
   "metadata": {},
   "outputs": [],
   "source": [
    "# Component Lists\n",
    "highway = ['roadsideassist', 'towing']\n",
    "\n",
    "mass_transit = ['buses', 'metrostation','publictransport','metrostations','busstations']\n",
    "\n",
    "railway = ['trainstations']\n",
    "\n",
    "aviation = ['houston airport']\n",
    "\n",
    "maritime = ['houston port']\n",
    "\n",
    "pipeline = ['houston pipeline']\n",
    "\n",
    "# Lifeline List of Tuples\n",
    "transport_yelp = [(highway, 'Highway'), (mass_transit, 'Mass Transit'), \n",
    "                  (railway, 'Railway')]\n",
    "transport_google = [(aviation, 'Aviation'),(maritime, 'Maritime'),\n",
    "                    (pipeline, 'Pipeline')]"
   ]
  },
  {
   "cell_type": "markdown",
   "metadata": {},
   "source": [
    "#### 2. Run Functions to Scrape"
   ]
  },
  {
   "cell_type": "code",
   "execution_count": 26,
   "metadata": {},
   "outputs": [
    {
     "name": "stdout",
     "output_type": "stream",
     "text": [
      "got 50\n",
      "got 50\n",
      "got 50\n",
      "got 40\n",
      "got 0\n",
      "reached the end\n",
      "total collected: 190\n"
     ]
    }
   ],
   "source": [
    "# Run Yelp function and save to dataframe\n",
    "transport_yelp_df = scrape_yelp(transport_yelp, 6, YELP_API_KEY)"
   ]
  },
  {
   "cell_type": "code",
   "execution_count": 27,
   "metadata": {},
   "outputs": [
    {
     "name": "stdout",
     "output_type": "stream",
     "text": [
      "pulled locations for houston airport\n",
      "pulled locations for houston port\n",
      "pulled locations for houston pipeline\n"
     ]
    }
   ],
   "source": [
    "# Run Google function and save to dataframe\n",
    "transport_google_df = scrape_google(transport_google, 6, google_places)"
   ]
  },
  {
   "cell_type": "markdown",
   "metadata": {},
   "source": [
    "#### 3. Combine Yelp and Google dataframes"
   ]
  },
  {
   "cell_type": "code",
   "execution_count": 28,
   "metadata": {},
   "outputs": [],
   "source": [
    "# Combine DataFrames\n",
    "transport_df = pd.concat([transport_google_df, transport_yelp_df])"
   ]
  },
  {
   "cell_type": "markdown",
   "metadata": {},
   "source": [
    "#### 4. Cleaning up data"
   ]
  },
  {
   "cell_type": "code",
   "execution_count": 29,
   "metadata": {},
   "outputs": [],
   "source": [
    "# Dropping all categories that don't actually meet lifelines\n",
    "# Using remove function to do it\n",
    "\n",
    "transport_df = remove(['parks','bodyshops', 'autorepair', 'airport_shuttles', \n",
    "                             'autopartssupplies', 'transmissionrepair', 'limos',\n",
    "                              'selfstorage', 'tours', 'rvrepair', 'homeinsurance',\n",
    "                      'tires', 'wheelrimrepair', 'taxis', 'publicservicesgovt'], transport_df)"
   ]
  },
  {
   "cell_type": "markdown",
   "metadata": {},
   "source": [
    "#### 5. Save to csv"
   ]
  },
  {
   "cell_type": "code",
   "execution_count": 30,
   "metadata": {},
   "outputs": [],
   "source": [
    "transport_df.to_csv('datasets/transportation.csv', index=False)"
   ]
  },
  {
   "cell_type": "markdown",
   "metadata": {},
   "source": [
    "## Lifeline 7 - Hazardous Material\n",
    "\n",
    "#### Components\n",
    "- *Facilities*: Status of hazardous material facilities, Amount, type, and containment procedures of hazardous materials, Reported or suspected hazardous material/toxic release incidents, Status of hazardous material supply chain\n",
    "\n",
    "\n",
    "- *Hazardous Incident*: Debris issues affecting the transportation system, Status of debris clearance operations, Reported or suspected hazardous material/toxic release incidents, Actual or potential radiological or nuclear incidents, Monitoring actions planned or underway for HAZMAT incidents\n"
   ]
  },
  {
   "cell_type": "markdown",
   "metadata": {},
   "source": [
    "#### 1. Define Search Terms"
   ]
  },
  {
   "cell_type": "code",
   "execution_count": 31,
   "metadata": {},
   "outputs": [],
   "source": [
    "# Component Lists\n",
    "facilities = ['biohazardcleanup', 'hazardouswastedisposal']\n",
    "facilities_g = ['hazardous waste','nuclear power plant']\n",
    "\n",
    "# Lifeline List of Tuples\n",
    "waste_yelp = [(facilities, 'Facilities')]\n",
    "waste_google = [(facilities_g, 'Facilities')]"
   ]
  },
  {
   "cell_type": "markdown",
   "metadata": {},
   "source": [
    "#### 2. Run Functions to Scrape"
   ]
  },
  {
   "cell_type": "code",
   "execution_count": 32,
   "metadata": {},
   "outputs": [
    {
     "name": "stdout",
     "output_type": "stream",
     "text": [
      "got 3\n",
      "got 0\n",
      "reached the end\n",
      "total collected: 3\n"
     ]
    },
    {
     "data": {
      "text/html": [
       "<div>\n",
       "<style scoped>\n",
       "    .dataframe tbody tr th:only-of-type {\n",
       "        vertical-align: middle;\n",
       "    }\n",
       "\n",
       "    .dataframe tbody tr th {\n",
       "        vertical-align: top;\n",
       "    }\n",
       "\n",
       "    .dataframe thead th {\n",
       "        text-align: right;\n",
       "    }\n",
       "</style>\n",
       "<table border=\"1\" class=\"dataframe\">\n",
       "  <thead>\n",
       "    <tr style=\"text-align: right;\">\n",
       "      <th></th>\n",
       "      <th>Business</th>\n",
       "      <th>Category</th>\n",
       "      <th>Source</th>\n",
       "      <th>Latitude</th>\n",
       "      <th>Longitude</th>\n",
       "      <th>Lifeline</th>\n",
       "      <th>Component</th>\n",
       "    </tr>\n",
       "  </thead>\n",
       "  <tbody>\n",
       "    <tr>\n",
       "      <th>0</th>\n",
       "      <td>Bio-Tex</td>\n",
       "      <td>homecleaning</td>\n",
       "      <td>Yelp</td>\n",
       "      <td>30.013385</td>\n",
       "      <td>-95.457453</td>\n",
       "      <td>7</td>\n",
       "      <td>None</td>\n",
       "    </tr>\n",
       "    <tr>\n",
       "      <th>1</th>\n",
       "      <td>Liquid Waste Solutions</td>\n",
       "      <td>hazardouswastedisposal</td>\n",
       "      <td>Yelp</td>\n",
       "      <td>29.773835</td>\n",
       "      <td>-95.558245</td>\n",
       "      <td>7</td>\n",
       "      <td>Facilities</td>\n",
       "    </tr>\n",
       "    <tr>\n",
       "      <th>2</th>\n",
       "      <td>Sharps Compliance Medical Waste Disposal</td>\n",
       "      <td>hazardouswastedisposal</td>\n",
       "      <td>Yelp</td>\n",
       "      <td>29.671359</td>\n",
       "      <td>-95.413821</td>\n",
       "      <td>7</td>\n",
       "      <td>Facilities</td>\n",
       "    </tr>\n",
       "  </tbody>\n",
       "</table>\n",
       "</div>"
      ],
      "text/plain": [
       "                                   Business                Category Source  \\\n",
       "0                                   Bio-Tex            homecleaning   Yelp   \n",
       "1                    Liquid Waste Solutions  hazardouswastedisposal   Yelp   \n",
       "2  Sharps Compliance Medical Waste Disposal  hazardouswastedisposal   Yelp   \n",
       "\n",
       "    Latitude  Longitude  Lifeline   Component  \n",
       "0  30.013385 -95.457453         7        None  \n",
       "1  29.773835 -95.558245         7  Facilities  \n",
       "2  29.671359 -95.413821         7  Facilities  "
      ]
     },
     "execution_count": 32,
     "metadata": {},
     "output_type": "execute_result"
    }
   ],
   "source": [
    "yelp_df = scrape_yelp(waste_yelp, 7, YELP_API_KEY)\n",
    "yelp_df.head()"
   ]
  },
  {
   "cell_type": "markdown",
   "metadata": {},
   "source": [
    "In the case of all three items pulled down from yelp, these businesses don't apply to the Hazardous Material lifeline.\n",
    "\n",
    "Could look into their involvment in the hurricane more, but they are mostly concered with \n",
    "- Bio-Tex - crimescene clean up\n",
    "- Liquid Waste - grease traps, etc\n",
    "- Sharps - medical waste disposal\n",
    "\n",
    "So I'm not going to move forward with this data."
   ]
  },
  {
   "cell_type": "code",
   "execution_count": 33,
   "metadata": {},
   "outputs": [
    {
     "name": "stdout",
     "output_type": "stream",
     "text": [
      "pulled locations for hazardous waste\n",
      "pulled locations for nuclear power plant\n"
     ]
    }
   ],
   "source": [
    "waste_df = scrape_google(waste_google, 7, google_places)"
   ]
  },
  {
   "cell_type": "markdown",
   "metadata": {},
   "source": [
    "#### 3. Save to csv"
   ]
  },
  {
   "cell_type": "code",
   "execution_count": 34,
   "metadata": {},
   "outputs": [],
   "source": [
    "waste_df.to_csv('datasets/waste.csv', index=False)"
   ]
  },
  {
   "cell_type": "markdown",
   "metadata": {},
   "source": [
    "## Combine Lifelines"
   ]
  },
  {
   "cell_type": "code",
   "execution_count": 35,
   "metadata": {},
   "outputs": [],
   "source": [
    "# import csvs\n",
    "one = pd.read_csv('datasets/safety.csv')\n",
    "two = pd.read_csv('datasets/fws.csv')\n",
    "three = pd.read_csv('datasets/health.csv')\n",
    "four = pd.read_csv('datasets/energy.csv')\n",
    "five = pd.read_csv('datasets/communication.csv')\n",
    "six = pd.read_csv('datasets/transportation.csv')\n",
    "seven = pd.read_csv('datasets/waste.csv')"
   ]
  },
  {
   "cell_type": "code",
   "execution_count": 36,
   "metadata": {},
   "outputs": [
    {
     "name": "stdout",
     "output_type": "stream",
     "text": [
      "(1365, 7)\n"
     ]
    },
    {
     "data": {
      "text/html": [
       "<div>\n",
       "<style scoped>\n",
       "    .dataframe tbody tr th:only-of-type {\n",
       "        vertical-align: middle;\n",
       "    }\n",
       "\n",
       "    .dataframe tbody tr th {\n",
       "        vertical-align: top;\n",
       "    }\n",
       "\n",
       "    .dataframe thead th {\n",
       "        text-align: right;\n",
       "    }\n",
       "</style>\n",
       "<table border=\"1\" class=\"dataframe\">\n",
       "  <thead>\n",
       "    <tr style=\"text-align: right;\">\n",
       "      <th></th>\n",
       "      <th>Business</th>\n",
       "      <th>Category</th>\n",
       "      <th>Component</th>\n",
       "      <th>Latitude</th>\n",
       "      <th>Lifeline</th>\n",
       "      <th>Longitude</th>\n",
       "      <th>Source</th>\n",
       "    </tr>\n",
       "  </thead>\n",
       "  <tbody>\n",
       "    <tr>\n",
       "      <th>0</th>\n",
       "      <td>Houston Police Department Headquarters</td>\n",
       "      <td>houston police department</td>\n",
       "      <td>Law Enforce/Security</td>\n",
       "      <td>29.755584</td>\n",
       "      <td>1</td>\n",
       "      <td>-95.367472</td>\n",
       "      <td>Google</td>\n",
       "    </tr>\n",
       "    <tr>\n",
       "      <th>1</th>\n",
       "      <td>Houston Police Department</td>\n",
       "      <td>houston police department</td>\n",
       "      <td>Law Enforce/Security</td>\n",
       "      <td>29.857023</td>\n",
       "      <td>1</td>\n",
       "      <td>-95.539746</td>\n",
       "      <td>Google</td>\n",
       "    </tr>\n",
       "    <tr>\n",
       "      <th>2</th>\n",
       "      <td>Houston Police Department</td>\n",
       "      <td>houston police department</td>\n",
       "      <td>Law Enforce/Security</td>\n",
       "      <td>29.727379</td>\n",
       "      <td>1</td>\n",
       "      <td>-95.604769</td>\n",
       "      <td>Google</td>\n",
       "    </tr>\n",
       "    <tr>\n",
       "      <th>3</th>\n",
       "      <td>Houston Police Department</td>\n",
       "      <td>houston police department</td>\n",
       "      <td>Law Enforce/Security</td>\n",
       "      <td>29.767038</td>\n",
       "      <td>1</td>\n",
       "      <td>-95.368363</td>\n",
       "      <td>Google</td>\n",
       "    </tr>\n",
       "    <tr>\n",
       "      <th>4</th>\n",
       "      <td>Houston Police Department - Central Patrol Sta...</td>\n",
       "      <td>houston police department</td>\n",
       "      <td>Law Enforce/Security</td>\n",
       "      <td>29.764894</td>\n",
       "      <td>1</td>\n",
       "      <td>-95.370553</td>\n",
       "      <td>Google</td>\n",
       "    </tr>\n",
       "  </tbody>\n",
       "</table>\n",
       "</div>"
      ],
      "text/plain": [
       "                                            Business  \\\n",
       "0             Houston Police Department Headquarters   \n",
       "1                          Houston Police Department   \n",
       "2                          Houston Police Department   \n",
       "3                          Houston Police Department   \n",
       "4  Houston Police Department - Central Patrol Sta...   \n",
       "\n",
       "                    Category             Component   Latitude  Lifeline  \\\n",
       "0  houston police department  Law Enforce/Security  29.755584         1   \n",
       "1  houston police department  Law Enforce/Security  29.857023         1   \n",
       "2  houston police department  Law Enforce/Security  29.727379         1   \n",
       "3  houston police department  Law Enforce/Security  29.767038         1   \n",
       "4  houston police department  Law Enforce/Security  29.764894         1   \n",
       "\n",
       "   Longitude  Source  \n",
       "0 -95.367472  Google  \n",
       "1 -95.539746  Google  \n",
       "2 -95.604769  Google  \n",
       "3 -95.368363  Google  \n",
       "4 -95.370553  Google  "
      ]
     },
     "execution_count": 36,
     "metadata": {},
     "output_type": "execute_result"
    }
   ],
   "source": [
    "df = pd.concat([one, two, three, four, five, six, seven], ignore_index=True, sort=True)\n",
    "# df = pd.read_csv()\n",
    "print(df.shape)\n",
    "df.head()"
   ]
  },
  {
   "cell_type": "markdown",
   "metadata": {},
   "source": [
    "#### Bonus: Add column for Lifeline names"
   ]
  },
  {
   "cell_type": "code",
   "execution_count": 37,
   "metadata": {},
   "outputs": [
    {
     "data": {
      "text/html": [
       "<div>\n",
       "<style scoped>\n",
       "    .dataframe tbody tr th:only-of-type {\n",
       "        vertical-align: middle;\n",
       "    }\n",
       "\n",
       "    .dataframe tbody tr th {\n",
       "        vertical-align: top;\n",
       "    }\n",
       "\n",
       "    .dataframe thead th {\n",
       "        text-align: right;\n",
       "    }\n",
       "</style>\n",
       "<table border=\"1\" class=\"dataframe\">\n",
       "  <thead>\n",
       "    <tr style=\"text-align: right;\">\n",
       "      <th></th>\n",
       "      <th>Business</th>\n",
       "      <th>Category</th>\n",
       "      <th>Component</th>\n",
       "      <th>Latitude</th>\n",
       "      <th>Lifeline</th>\n",
       "      <th>Longitude</th>\n",
       "      <th>Source</th>\n",
       "      <th>Lifeline Name</th>\n",
       "    </tr>\n",
       "  </thead>\n",
       "  <tbody>\n",
       "    <tr>\n",
       "      <th>0</th>\n",
       "      <td>Houston Police Department Headquarters</td>\n",
       "      <td>houston police department</td>\n",
       "      <td>Law Enforce/Security</td>\n",
       "      <td>29.755584</td>\n",
       "      <td>1</td>\n",
       "      <td>-95.367472</td>\n",
       "      <td>Google</td>\n",
       "      <td>Saftey &amp; Security</td>\n",
       "    </tr>\n",
       "    <tr>\n",
       "      <th>1</th>\n",
       "      <td>Houston Police Department</td>\n",
       "      <td>houston police department</td>\n",
       "      <td>Law Enforce/Security</td>\n",
       "      <td>29.857023</td>\n",
       "      <td>1</td>\n",
       "      <td>-95.539746</td>\n",
       "      <td>Google</td>\n",
       "      <td>Saftey &amp; Security</td>\n",
       "    </tr>\n",
       "    <tr>\n",
       "      <th>2</th>\n",
       "      <td>Houston Police Department</td>\n",
       "      <td>houston police department</td>\n",
       "      <td>Law Enforce/Security</td>\n",
       "      <td>29.727379</td>\n",
       "      <td>1</td>\n",
       "      <td>-95.604769</td>\n",
       "      <td>Google</td>\n",
       "      <td>Saftey &amp; Security</td>\n",
       "    </tr>\n",
       "    <tr>\n",
       "      <th>3</th>\n",
       "      <td>Houston Police Department</td>\n",
       "      <td>houston police department</td>\n",
       "      <td>Law Enforce/Security</td>\n",
       "      <td>29.767038</td>\n",
       "      <td>1</td>\n",
       "      <td>-95.368363</td>\n",
       "      <td>Google</td>\n",
       "      <td>Saftey &amp; Security</td>\n",
       "    </tr>\n",
       "    <tr>\n",
       "      <th>4</th>\n",
       "      <td>Houston Police Department - Central Patrol Sta...</td>\n",
       "      <td>houston police department</td>\n",
       "      <td>Law Enforce/Security</td>\n",
       "      <td>29.764894</td>\n",
       "      <td>1</td>\n",
       "      <td>-95.370553</td>\n",
       "      <td>Google</td>\n",
       "      <td>Saftey &amp; Security</td>\n",
       "    </tr>\n",
       "  </tbody>\n",
       "</table>\n",
       "</div>"
      ],
      "text/plain": [
       "                                            Business  \\\n",
       "0             Houston Police Department Headquarters   \n",
       "1                          Houston Police Department   \n",
       "2                          Houston Police Department   \n",
       "3                          Houston Police Department   \n",
       "4  Houston Police Department - Central Patrol Sta...   \n",
       "\n",
       "                    Category             Component   Latitude  Lifeline  \\\n",
       "0  houston police department  Law Enforce/Security  29.755584         1   \n",
       "1  houston police department  Law Enforce/Security  29.857023         1   \n",
       "2  houston police department  Law Enforce/Security  29.727379         1   \n",
       "3  houston police department  Law Enforce/Security  29.767038         1   \n",
       "4  houston police department  Law Enforce/Security  29.764894         1   \n",
       "\n",
       "   Longitude  Source      Lifeline Name  \n",
       "0 -95.367472  Google  Saftey & Security  \n",
       "1 -95.539746  Google  Saftey & Security  \n",
       "2 -95.604769  Google  Saftey & Security  \n",
       "3 -95.368363  Google  Saftey & Security  \n",
       "4 -95.370553  Google  Saftey & Security  "
      ]
     },
     "execution_count": 37,
     "metadata": {},
     "output_type": "execute_result"
    }
   ],
   "source": [
    "def lifeline_builder(lifeline):\n",
    "    def unpack(cell):\n",
    "        for tup in lifeline:\n",
    "            for n in tup:\n",
    "                if cell == tup[0]:\n",
    "                    return tup[1]\n",
    "    return df['Lifeline'].map(unpack)\n",
    "\n",
    "lifeline = [(1, 'Saftey & Security'), (2, 'Food, Water & Shelter'),\n",
    "            (3, 'Health & Medical'), (4, 'Energy'), (6, 'Transportation'),\n",
    "           (5, 'Communication'), (7, 'Hazardous Material')]\n",
    "\n",
    "\n",
    "df['Lifeline Name'] = lifeline_builder(lifeline)\n",
    "df.head()"
   ]
  },
  {
   "cell_type": "code",
   "execution_count": 38,
   "metadata": {},
   "outputs": [
    {
     "data": {
      "text/plain": [
       "Business         0\n",
       "Category         0\n",
       "Component        0\n",
       "Latitude         0\n",
       "Lifeline         0\n",
       "Longitude        0\n",
       "Source           0\n",
       "Lifeline Name    0\n",
       "dtype: int64"
      ]
     },
     "execution_count": 38,
     "metadata": {},
     "output_type": "execute_result"
    }
   ],
   "source": [
    "# make sure we don't have null values\n",
    "df.isnull().sum()"
   ]
  },
  {
   "cell_type": "code",
   "execution_count": 39,
   "metadata": {},
   "outputs": [
    {
     "data": {
      "text/plain": [
       "Food, Water & Shelter    329\n",
       "Energy                   270\n",
       "Health & Medical         260\n",
       "Communication            229\n",
       "Transportation           162\n",
       "Saftey & Security         88\n",
       "Hazardous Material        27\n",
       "Name: Lifeline Name, dtype: int64"
      ]
     },
     "execution_count": 39,
     "metadata": {},
     "output_type": "execute_result"
    }
   ],
   "source": [
    "# make sure all 7 lifelines were mapped correctly\n",
    "df['Lifeline Name'].value_counts()"
   ]
  },
  {
   "cell_type": "markdown",
   "metadata": {},
   "source": [
    "#### Bonus: Add column for zipcode"
   ]
  },
  {
   "cell_type": "code",
   "execution_count": 40,
   "metadata": {},
   "outputs": [],
   "source": [
    "# # This code takes about 25 minutes to run, *uncommenters beware*\n",
    "\n",
    "# lat_list =  list(df['Latitude'])\n",
    "# long_list = list(df['Longitude'])\n",
    "# search = SearchEngine(simple_zipcode=False)\n",
    "\n",
    "# num = 1\n",
    "# zips_list = []\n",
    "# for lat_coord, long_coord in zip(lat_list, long_list):\n",
    "\n",
    "#     res_zip = search.by_coordinates(lat=lat_coord, lng=long_coord, radius=50, returns = 1)\n",
    "    \n",
    "#     zipcode = res_zip[0].zipcode \n",
    "#     ###print res_zip just to see. calling[0] allows me to not use a for loop and get right to what is needed\n",
    "    \n",
    "#     zips_list.append(zipcode)\n",
    "    \n",
    "#     print(f'zip {num}: {zipcode}')\n",
    "    \n",
    "#     num +=1\n",
    "    \n",
    "# print('Party\\'s over. Ya did it.')\n",
    "\n",
    "# df['Zipcode'] = zips_list"
   ]
  },
  {
   "cell_type": "markdown",
   "metadata": {},
   "source": [
    "#### Save to csv"
   ]
  },
  {
   "cell_type": "code",
   "execution_count": 41,
   "metadata": {},
   "outputs": [],
   "source": [
    "# df.to_csv('datasets/all_lifelines.csv', index = False)"
   ]
  },
  {
   "cell_type": "markdown",
   "metadata": {},
   "source": [
    "## Zipcode EDA"
   ]
  },
  {
   "cell_type": "markdown",
   "metadata": {},
   "source": [
    "#### Create Dataframe where each row is a zipcode and each column in a Lifeline"
   ]
  },
  {
   "cell_type": "code",
   "execution_count": 43,
   "metadata": {},
   "outputs": [],
   "source": [
    "df = pd.read_csv('datasets/all_lifelines.csv')\n",
    "lifelines_by_zip = {}\n",
    "zc_list = df['Zipcode'].unique()\n",
    "\n",
    "for z in zc_list:\n",
    "    unique_df = df[df['Zipcode'] == z]\n",
    "    \n",
    "    value_cs = unique_df['Lifeline Name'].value_counts()\n",
    "    \n",
    "    lifelines_by_zip.update({z: value_cs})\n",
    "    \n",
    "lifelines_zip_df = pd.DataFrame(lifelines_by_zip).T\n",
    "\n",
    "#NaN means there were no locations within that zipcode => so turning into zero\n",
    "lifelines_zip_df = lifelines_zip_df.fillna(0) "
   ]
  },
  {
   "cell_type": "code",
   "execution_count": 44,
   "metadata": {},
   "outputs": [
    {
     "data": {
      "text/html": [
       "<div>\n",
       "<style scoped>\n",
       "    .dataframe tbody tr th:only-of-type {\n",
       "        vertical-align: middle;\n",
       "    }\n",
       "\n",
       "    .dataframe tbody tr th {\n",
       "        vertical-align: top;\n",
       "    }\n",
       "\n",
       "    .dataframe thead th {\n",
       "        text-align: right;\n",
       "    }\n",
       "</style>\n",
       "<table border=\"1\" class=\"dataframe\">\n",
       "  <thead>\n",
       "    <tr style=\"text-align: right;\">\n",
       "      <th></th>\n",
       "      <th>Communication</th>\n",
       "      <th>Energy</th>\n",
       "      <th>Food, Water &amp; Shelter</th>\n",
       "      <th>Hazardous Material</th>\n",
       "      <th>Health &amp; Medical</th>\n",
       "      <th>Saftey &amp; Security</th>\n",
       "      <th>Transportation</th>\n",
       "      <th>Total</th>\n",
       "    </tr>\n",
       "  </thead>\n",
       "  <tbody>\n",
       "    <tr>\n",
       "      <th>77002</th>\n",
       "      <td>12.0</td>\n",
       "      <td>12.0</td>\n",
       "      <td>4.0</td>\n",
       "      <td>1.0</td>\n",
       "      <td>6.0</td>\n",
       "      <td>3.0</td>\n",
       "      <td>2.0</td>\n",
       "      <td>40.0</td>\n",
       "    </tr>\n",
       "    <tr>\n",
       "      <th>77040</th>\n",
       "      <td>0.0</td>\n",
       "      <td>3.0</td>\n",
       "      <td>2.0</td>\n",
       "      <td>1.0</td>\n",
       "      <td>2.0</td>\n",
       "      <td>2.0</td>\n",
       "      <td>1.0</td>\n",
       "      <td>11.0</td>\n",
       "    </tr>\n",
       "    <tr>\n",
       "      <th>77077</th>\n",
       "      <td>0.0</td>\n",
       "      <td>1.0</td>\n",
       "      <td>10.0</td>\n",
       "      <td>0.0</td>\n",
       "      <td>5.0</td>\n",
       "      <td>1.0</td>\n",
       "      <td>1.0</td>\n",
       "      <td>18.0</td>\n",
       "    </tr>\n",
       "    <tr>\n",
       "      <th>77201</th>\n",
       "      <td>6.0</td>\n",
       "      <td>6.0</td>\n",
       "      <td>1.0</td>\n",
       "      <td>0.0</td>\n",
       "      <td>2.0</td>\n",
       "      <td>8.0</td>\n",
       "      <td>11.0</td>\n",
       "      <td>34.0</td>\n",
       "    </tr>\n",
       "    <tr>\n",
       "      <th>77071</th>\n",
       "      <td>0.0</td>\n",
       "      <td>0.0</td>\n",
       "      <td>2.0</td>\n",
       "      <td>0.0</td>\n",
       "      <td>0.0</td>\n",
       "      <td>1.0</td>\n",
       "      <td>0.0</td>\n",
       "      <td>3.0</td>\n",
       "    </tr>\n",
       "  </tbody>\n",
       "</table>\n",
       "</div>"
      ],
      "text/plain": [
       "       Communication  Energy  Food, Water & Shelter  Hazardous Material  \\\n",
       "77002           12.0    12.0                    4.0                 1.0   \n",
       "77040            0.0     3.0                    2.0                 1.0   \n",
       "77077            0.0     1.0                   10.0                 0.0   \n",
       "77201            6.0     6.0                    1.0                 0.0   \n",
       "77071            0.0     0.0                    2.0                 0.0   \n",
       "\n",
       "       Health & Medical  Saftey & Security  Transportation  Total  \n",
       "77002               6.0                3.0             2.0   40.0  \n",
       "77040               2.0                2.0             1.0   11.0  \n",
       "77077               5.0                1.0             1.0   18.0  \n",
       "77201               2.0                8.0            11.0   34.0  \n",
       "77071               0.0                1.0             0.0    3.0  "
      ]
     },
     "execution_count": 44,
     "metadata": {},
     "output_type": "execute_result"
    }
   ],
   "source": [
    "# add up all lifeline counts and put in new column, 'Total'\n",
    "lifelines_zip_df['Total'] = lifelines_zip_df['Communication']+lifelines_zip_df['Energy']+lifelines_zip_df['Food, Water & Shelter']+\\\n",
    "                            lifelines_zip_df['Hazardous Material']+lifelines_zip_df['Health & Medical']+\\\n",
    "                            lifelines_zip_df['Saftey & Security']+ lifelines_zip_df['Transportation']\n",
    "lifelines_zip_df.head()"
   ]
  },
  {
   "cell_type": "markdown",
   "metadata": {},
   "source": [
    "#### Groupby Above or Below Average Lifeline count per Zipcode"
   ]
  },
  {
   "cell_type": "code",
   "execution_count": 45,
   "metadata": {},
   "outputs": [
    {
     "data": {
      "text/plain": [
       "9.178807947019868"
      ]
     },
     "execution_count": 45,
     "metadata": {},
     "output_type": "execute_result"
    }
   ],
   "source": [
    "# look at the mean\n",
    "lifelines_zip_df['Total'].mean()"
   ]
  },
  {
   "cell_type": "code",
   "execution_count": 46,
   "metadata": {},
   "outputs": [],
   "source": [
    "# Define 'Above'\n",
    "above_df = lifelines_zip_df[lifelines_zip_df['Total'] > lifelines_zip_df['Total'].mean()]"
   ]
  },
  {
   "cell_type": "code",
   "execution_count": 47,
   "metadata": {},
   "outputs": [],
   "source": [
    "# Define 'Below'\n",
    "below_df = lifelines_zip_df[lifelines_zip_df['Total'] < lifelines_zip_df['Total'].mean()]"
   ]
  },
  {
   "cell_type": "code",
   "execution_count": 48,
   "metadata": {},
   "outputs": [
    {
     "name": "stdout",
     "output_type": "stream",
     "text": [
      "Describes the distribution of above average zipcodes\n"
     ]
    },
    {
     "data": {
      "text/html": [
       "<div>\n",
       "<style scoped>\n",
       "    .dataframe tbody tr th:only-of-type {\n",
       "        vertical-align: middle;\n",
       "    }\n",
       "\n",
       "    .dataframe tbody tr th {\n",
       "        vertical-align: top;\n",
       "    }\n",
       "\n",
       "    .dataframe thead th {\n",
       "        text-align: right;\n",
       "    }\n",
       "</style>\n",
       "<table border=\"1\" class=\"dataframe\">\n",
       "  <thead>\n",
       "    <tr style=\"text-align: right;\">\n",
       "      <th></th>\n",
       "      <th>Communication</th>\n",
       "      <th>Energy</th>\n",
       "      <th>Food, Water &amp; Shelter</th>\n",
       "      <th>Hazardous Material</th>\n",
       "      <th>Health &amp; Medical</th>\n",
       "      <th>Saftey &amp; Security</th>\n",
       "      <th>Transportation</th>\n",
       "      <th>Total</th>\n",
       "    </tr>\n",
       "  </thead>\n",
       "  <tbody>\n",
       "    <tr>\n",
       "      <th>count</th>\n",
       "      <td>49.000000</td>\n",
       "      <td>49.000000</td>\n",
       "      <td>49.000000</td>\n",
       "      <td>49.000000</td>\n",
       "      <td>49.000000</td>\n",
       "      <td>49.000000</td>\n",
       "      <td>49.000000</td>\n",
       "      <td>49.000000</td>\n",
       "    </tr>\n",
       "    <tr>\n",
       "      <th>mean</th>\n",
       "      <td>4.428571</td>\n",
       "      <td>4.183673</td>\n",
       "      <td>3.571429</td>\n",
       "      <td>0.244898</td>\n",
       "      <td>3.530612</td>\n",
       "      <td>1.183673</td>\n",
       "      <td>2.040816</td>\n",
       "      <td>19.183673</td>\n",
       "    </tr>\n",
       "    <tr>\n",
       "      <th>std</th>\n",
       "      <td>5.151861</td>\n",
       "      <td>3.413658</td>\n",
       "      <td>2.753785</td>\n",
       "      <td>0.480044</td>\n",
       "      <td>2.509167</td>\n",
       "      <td>1.394535</td>\n",
       "      <td>2.226350</td>\n",
       "      <td>9.013123</td>\n",
       "    </tr>\n",
       "    <tr>\n",
       "      <th>min</th>\n",
       "      <td>0.000000</td>\n",
       "      <td>0.000000</td>\n",
       "      <td>0.000000</td>\n",
       "      <td>0.000000</td>\n",
       "      <td>0.000000</td>\n",
       "      <td>0.000000</td>\n",
       "      <td>0.000000</td>\n",
       "      <td>10.000000</td>\n",
       "    </tr>\n",
       "    <tr>\n",
       "      <th>25%</th>\n",
       "      <td>0.000000</td>\n",
       "      <td>1.000000</td>\n",
       "      <td>1.000000</td>\n",
       "      <td>0.000000</td>\n",
       "      <td>2.000000</td>\n",
       "      <td>0.000000</td>\n",
       "      <td>1.000000</td>\n",
       "      <td>12.000000</td>\n",
       "    </tr>\n",
       "    <tr>\n",
       "      <th>50%</th>\n",
       "      <td>3.000000</td>\n",
       "      <td>4.000000</td>\n",
       "      <td>4.000000</td>\n",
       "      <td>0.000000</td>\n",
       "      <td>4.000000</td>\n",
       "      <td>1.000000</td>\n",
       "      <td>1.000000</td>\n",
       "      <td>16.000000</td>\n",
       "    </tr>\n",
       "    <tr>\n",
       "      <th>75%</th>\n",
       "      <td>7.000000</td>\n",
       "      <td>6.000000</td>\n",
       "      <td>5.000000</td>\n",
       "      <td>0.000000</td>\n",
       "      <td>5.000000</td>\n",
       "      <td>2.000000</td>\n",
       "      <td>3.000000</td>\n",
       "      <td>24.000000</td>\n",
       "    </tr>\n",
       "    <tr>\n",
       "      <th>max</th>\n",
       "      <td>21.000000</td>\n",
       "      <td>12.000000</td>\n",
       "      <td>10.000000</td>\n",
       "      <td>2.000000</td>\n",
       "      <td>13.000000</td>\n",
       "      <td>8.000000</td>\n",
       "      <td>11.000000</td>\n",
       "      <td>43.000000</td>\n",
       "    </tr>\n",
       "  </tbody>\n",
       "</table>\n",
       "</div>"
      ],
      "text/plain": [
       "       Communication     Energy  Food, Water & Shelter  Hazardous Material  \\\n",
       "count      49.000000  49.000000              49.000000           49.000000   \n",
       "mean        4.428571   4.183673               3.571429            0.244898   \n",
       "std         5.151861   3.413658               2.753785            0.480044   \n",
       "min         0.000000   0.000000               0.000000            0.000000   \n",
       "25%         0.000000   1.000000               1.000000            0.000000   \n",
       "50%         3.000000   4.000000               4.000000            0.000000   \n",
       "75%         7.000000   6.000000               5.000000            0.000000   \n",
       "max        21.000000  12.000000              10.000000            2.000000   \n",
       "\n",
       "       Health & Medical  Saftey & Security  Transportation      Total  \n",
       "count         49.000000          49.000000       49.000000  49.000000  \n",
       "mean           3.530612           1.183673        2.040816  19.183673  \n",
       "std            2.509167           1.394535        2.226350   9.013123  \n",
       "min            0.000000           0.000000        0.000000  10.000000  \n",
       "25%            2.000000           0.000000        1.000000  12.000000  \n",
       "50%            4.000000           1.000000        1.000000  16.000000  \n",
       "75%            5.000000           2.000000        3.000000  24.000000  \n",
       "max           13.000000           8.000000       11.000000  43.000000  "
      ]
     },
     "execution_count": 48,
     "metadata": {},
     "output_type": "execute_result"
    }
   ],
   "source": [
    "# Look at 'Above' spread\n",
    "print('Describes the distribution of above average zipcodes')\n",
    "above_df.describe()"
   ]
  },
  {
   "cell_type": "code",
   "execution_count": 49,
   "metadata": {},
   "outputs": [
    {
     "name": "stdout",
     "output_type": "stream",
     "text": [
      "Describes the distribution of below average zipcodes\n"
     ]
    },
    {
     "data": {
      "text/html": [
       "<div>\n",
       "<style scoped>\n",
       "    .dataframe tbody tr th:only-of-type {\n",
       "        vertical-align: middle;\n",
       "    }\n",
       "\n",
       "    .dataframe tbody tr th {\n",
       "        vertical-align: top;\n",
       "    }\n",
       "\n",
       "    .dataframe thead th {\n",
       "        text-align: right;\n",
       "    }\n",
       "</style>\n",
       "<table border=\"1\" class=\"dataframe\">\n",
       "  <thead>\n",
       "    <tr style=\"text-align: right;\">\n",
       "      <th></th>\n",
       "      <th>Communication</th>\n",
       "      <th>Energy</th>\n",
       "      <th>Food, Water &amp; Shelter</th>\n",
       "      <th>Hazardous Material</th>\n",
       "      <th>Health &amp; Medical</th>\n",
       "      <th>Saftey &amp; Security</th>\n",
       "      <th>Transportation</th>\n",
       "      <th>Total</th>\n",
       "    </tr>\n",
       "  </thead>\n",
       "  <tbody>\n",
       "    <tr>\n",
       "      <th>count</th>\n",
       "      <td>102.000000</td>\n",
       "      <td>102.000000</td>\n",
       "      <td>102.000000</td>\n",
       "      <td>102.000000</td>\n",
       "      <td>102.000000</td>\n",
       "      <td>102.000000</td>\n",
       "      <td>102.000000</td>\n",
       "      <td>102.000000</td>\n",
       "    </tr>\n",
       "    <tr>\n",
       "      <th>mean</th>\n",
       "      <td>0.117647</td>\n",
       "      <td>0.705882</td>\n",
       "      <td>1.598039</td>\n",
       "      <td>0.215686</td>\n",
       "      <td>0.852941</td>\n",
       "      <td>0.294118</td>\n",
       "      <td>0.588235</td>\n",
       "      <td>4.372549</td>\n",
       "    </tr>\n",
       "    <tr>\n",
       "      <th>std</th>\n",
       "      <td>0.429001</td>\n",
       "      <td>1.130918</td>\n",
       "      <td>1.477621</td>\n",
       "      <td>0.538194</td>\n",
       "      <td>1.056775</td>\n",
       "      <td>0.573132</td>\n",
       "      <td>0.787941</td>\n",
       "      <td>2.609661</td>\n",
       "    </tr>\n",
       "    <tr>\n",
       "      <th>min</th>\n",
       "      <td>0.000000</td>\n",
       "      <td>0.000000</td>\n",
       "      <td>0.000000</td>\n",
       "      <td>0.000000</td>\n",
       "      <td>0.000000</td>\n",
       "      <td>0.000000</td>\n",
       "      <td>0.000000</td>\n",
       "      <td>1.000000</td>\n",
       "    </tr>\n",
       "    <tr>\n",
       "      <th>25%</th>\n",
       "      <td>0.000000</td>\n",
       "      <td>0.000000</td>\n",
       "      <td>0.250000</td>\n",
       "      <td>0.000000</td>\n",
       "      <td>0.000000</td>\n",
       "      <td>0.000000</td>\n",
       "      <td>0.000000</td>\n",
       "      <td>2.000000</td>\n",
       "    </tr>\n",
       "    <tr>\n",
       "      <th>50%</th>\n",
       "      <td>0.000000</td>\n",
       "      <td>0.000000</td>\n",
       "      <td>1.000000</td>\n",
       "      <td>0.000000</td>\n",
       "      <td>1.000000</td>\n",
       "      <td>0.000000</td>\n",
       "      <td>0.000000</td>\n",
       "      <td>4.000000</td>\n",
       "    </tr>\n",
       "    <tr>\n",
       "      <th>75%</th>\n",
       "      <td>0.000000</td>\n",
       "      <td>1.000000</td>\n",
       "      <td>2.000000</td>\n",
       "      <td>0.000000</td>\n",
       "      <td>1.000000</td>\n",
       "      <td>0.000000</td>\n",
       "      <td>1.000000</td>\n",
       "      <td>7.000000</td>\n",
       "    </tr>\n",
       "    <tr>\n",
       "      <th>max</th>\n",
       "      <td>3.000000</td>\n",
       "      <td>6.000000</td>\n",
       "      <td>6.000000</td>\n",
       "      <td>3.000000</td>\n",
       "      <td>5.000000</td>\n",
       "      <td>2.000000</td>\n",
       "      <td>4.000000</td>\n",
       "      <td>9.000000</td>\n",
       "    </tr>\n",
       "  </tbody>\n",
       "</table>\n",
       "</div>"
      ],
      "text/plain": [
       "       Communication      Energy  Food, Water & Shelter  Hazardous Material  \\\n",
       "count     102.000000  102.000000             102.000000          102.000000   \n",
       "mean        0.117647    0.705882               1.598039            0.215686   \n",
       "std         0.429001    1.130918               1.477621            0.538194   \n",
       "min         0.000000    0.000000               0.000000            0.000000   \n",
       "25%         0.000000    0.000000               0.250000            0.000000   \n",
       "50%         0.000000    0.000000               1.000000            0.000000   \n",
       "75%         0.000000    1.000000               2.000000            0.000000   \n",
       "max         3.000000    6.000000               6.000000            3.000000   \n",
       "\n",
       "       Health & Medical  Saftey & Security  Transportation       Total  \n",
       "count        102.000000         102.000000      102.000000  102.000000  \n",
       "mean           0.852941           0.294118        0.588235    4.372549  \n",
       "std            1.056775           0.573132        0.787941    2.609661  \n",
       "min            0.000000           0.000000        0.000000    1.000000  \n",
       "25%            0.000000           0.000000        0.000000    2.000000  \n",
       "50%            1.000000           0.000000        0.000000    4.000000  \n",
       "75%            1.000000           0.000000        1.000000    7.000000  \n",
       "max            5.000000           2.000000        4.000000    9.000000  "
      ]
     },
     "execution_count": 49,
     "metadata": {},
     "output_type": "execute_result"
    }
   ],
   "source": [
    "# Look at 'Below' spread\n",
    "print('Describes the distribution of below average zipcodes')\n",
    "below_df.describe()"
   ]
  },
  {
   "cell_type": "markdown",
   "metadata": {},
   "source": [
    "#### Are the means between Above average and Below average signifcant?"
   ]
  },
  {
   "cell_type": "code",
   "execution_count": 50,
   "metadata": {},
   "outputs": [
    {
     "data": {
      "image/png": "[encoded data removed]",
      "text/plain": [
       "<Figure size 720x432 with 1 Axes>"
      ]
     },
     "metadata": {
      "needs_background": "light"
     },
     "output_type": "display_data"
    }
   ],
   "source": [
    "# plot the different distributions of lifeline counts\n",
    "fig , ax1 = plt.subplots(figsize=(10,6))\n",
    "\n",
    "sns.distplot(above_df['Total'], ax = ax1, label='Above Average')\n",
    "sns.distplot(below_df['Total'], ax = ax1, label='Below Average')\n",
    "ax1.legend()\n",
    "plt.title('Frequency of Lifeline Count in a Zipcode');"
   ]
  },
  {
   "cell_type": "code",
   "execution_count": 51,
   "metadata": {},
   "outputs": [
    {
     "data": {
      "text/plain": [
       "Ttest_indResult(statistic=15.357391281248585, pvalue=1.6495037622291742e-32)"
      ]
     },
     "execution_count": 51,
     "metadata": {},
     "output_type": "execute_result"
    }
   ],
   "source": [
    "# run a t-test\n",
    "stats.ttest_ind(above_df['Total'], below_df['Total'])"
   ]
  },
  {
   "cell_type": "markdown",
   "metadata": {},
   "source": [
    "#### Conclusion\n",
    "With a p-value so low, I reject my null hypothesis and conclude that there is a significant different between the group of zipcodes with above average lifeline counts and the group of zipcodes with below average lifeline counts. \n",
    "\n",
    "This means for Houston, TX there is a significant lack of diversity and spread of resources throughout the city. This is supported by additional research about the city showing differences in income, zoning, and historical resource allocations aligning with the locations of our lifelines. "
   ]
  },
  {
   "cell_type": "markdown",
   "metadata": {},
   "source": [
    "#### Describe these zipcode groupings on the original DataFrame\n",
    "Below is list comprehension that creates a new column where the zipcodes are labeled as being 'Above' the average count of lifelines per zipcode or 'Below' the average count of lifelines per zipcode."
   ]
  },
  {
   "cell_type": "code",
   "execution_count": 52,
   "metadata": {},
   "outputs": [
    {
     "data": {
      "text/plain": [
       "Above    940\n",
       "Below    446\n",
       "Name: Mean, dtype: int64"
      ]
     },
     "execution_count": 52,
     "metadata": {},
     "output_type": "execute_result"
    }
   ],
   "source": [
    "df['Mean'] = ['Above' if cell in list(above_df.index)\\\n",
    "              else 'Below' for cell in df['Zipcode']]\n",
    "df['Mean'].value_counts()"
   ]
  },
  {
   "cell_type": "markdown",
   "metadata": {},
   "source": [
    "#### Save new column to original csv"
   ]
  },
  {
   "cell_type": "code",
   "execution_count": 53,
   "metadata": {},
   "outputs": [],
   "source": [
    "df.to_csv('datasets/all_lifelines.csv', index = False)"
   ]
  },
  {
   "cell_type": "markdown",
   "metadata": {},
   "source": [
    "## Find Your City\n",
    "\n",
    "- `find_lifelines` is a function that pulls data from Google for each Lifeline using \"generic\" search terms for whatever city you put into the function.\n",
    "\n",
    "\n",
    "- The function will return a csv name after the city you input. \n",
    "    - For example:\n",
    "    - `find_lifelines('Austin, Texas', google_places)` \n",
    "    - will return a csv called `Austin, Texas.csv`\n",
    "        \n",
    "        \n",
    "- The completed csv will look like this:\n",
    "\n",
    "| Business | Category | Latitude | Longitude | Lifeline | Component |\n",
    "|----------------------------------|-------------------|-----------|------------|-------------------|--------------------------|\n",
    "| Business 1 | search term | float | float | lifeline name | component name |\n",
    "|**Austin, Texas Example:**         |  |\n",
    "| City of Austin Police Department | police department | 30.267554 | -97.734664 | Safety & Security | Law Enforcement/Security |\n",
    "\n",
    "\n",
    "- **Note**: because only \"generic\" search terms are used, this would not be considered a robust dataset of locations for each lifeline. To create a more robust dataset would require research into that specific city's resources, industries and geography to find more specific and appropriate search terms to define in the function.\n",
    "    - For example for the component Maritime of the Transportation Lifeline\n",
    "        - *generic/already given* `maritime = ['port']`\n",
    "        - *specific* `maritime_sp = ['Houston port']`\n",
    "        - `find_lifelines('Houston, Texas', google_places, maritime=maritime_sp)`"
   ]
  },
  {
   "cell_type": "code",
   "execution_count": 2,
   "metadata": {},
   "outputs": [],
   "source": [
    "# imports\n",
    "from lifelinescrape import find_lifelines\n",
    "from googleplaces import GooglePlaces\n",
    "\n",
    "# define API KEY\n",
    "GOOGLE_API_KEY = open('API_LOCATION.txt').read()[:-1]\n",
    "google_places = GooglePlaces(GOOGLE_API_KEY)\n",
    "\n",
    "# run function\n",
    "find_lifelines('YOUR_CITY_HERE', google_places)"
   ]
  },
  {
   "cell_type": "code",
   "execution_count": null,
   "metadata": {},
   "outputs": [],
   "source": []
  }
 ],
 "metadata": {
  "kernelspec": {
   "display_name": "Python 3",
   "language": "python",
   "name": "python3"
  },
  "language_info": {
   "codemirror_mode": {
    "name": "ipython",
    "version": 3
   },
   "file_extension": ".py",
   "mimetype": "text/x-python",
   "name": "python",
   "nbconvert_exporter": "python",
   "pygments_lexer": "ipython3",
   "version": "3.6.8"
  }
 },
 "nbformat": 4,
 "nbformat_minor": 2
}
